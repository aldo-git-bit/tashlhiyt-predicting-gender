{
 "cells": [
  {
   "cell_type": "code",
   "execution_count": 1,
   "metadata": {},
   "outputs": [],
   "source": [
    "import pandas as pd\n",
    "import numpy as np\n",
    "import matplotlib.pyplot as plt\n",
    "import seaborn as sns"
   ]
  },
  {
   "cell_type": "code",
   "execution_count": 7,
   "metadata": {},
   "outputs": [
    {
     "data": {
      "text/html": [
       "<div>\n",
       "<style scoped>\n",
       "    .dataframe tbody tr th:only-of-type {\n",
       "        vertical-align: middle;\n",
       "    }\n",
       "\n",
       "    .dataframe tbody tr th {\n",
       "        vertical-align: top;\n",
       "    }\n",
       "\n",
       "    .dataframe thead th {\n",
       "        text-align: right;\n",
       "    }\n",
       "</style>\n",
       "<table border=\"1\" class=\"dataframe\">\n",
       "  <thead>\n",
       "    <tr style=\"text-align: right;\">\n",
       "      <th></th>\n",
       "      <th>Gender2</th>\n",
       "      <th>Gender3</th>\n",
       "    </tr>\n",
       "  </thead>\n",
       "  <tbody>\n",
       "    <tr>\n",
       "      <th>0</th>\n",
       "      <td>Feminine</td>\n",
       "      <td>Feminine</td>\n",
       "    </tr>\n",
       "    <tr>\n",
       "      <th>1</th>\n",
       "      <td>Feminine</td>\n",
       "      <td>Feminine</td>\n",
       "    </tr>\n",
       "    <tr>\n",
       "      <th>2</th>\n",
       "      <td>Masculine</td>\n",
       "      <td>Masculine</td>\n",
       "    </tr>\n",
       "    <tr>\n",
       "      <th>3</th>\n",
       "      <td>Masculine</td>\n",
       "      <td>Masculine</td>\n",
       "    </tr>\n",
       "    <tr>\n",
       "      <th>4</th>\n",
       "      <td>Masculine</td>\n",
       "      <td>Masculine</td>\n",
       "    </tr>\n",
       "  </tbody>\n",
       "</table>\n",
       "</div>"
      ],
      "text/plain": [
       "     Gender2    Gender3\n",
       "0   Feminine   Feminine\n",
       "1   Feminine   Feminine\n",
       "2  Masculine  Masculine\n",
       "3  Masculine  Masculine\n",
       "4  Masculine  Masculine"
      ]
     },
     "execution_count": 7,
     "metadata": {},
     "output_type": "execute_result"
    }
   ],
   "source": [
    "data_ = pd.read_csv('tashdata.csv')\n",
    "data_.head()\n",
    "mod_data = data_[['y_analysisGender2Category', 'y_analysisGender3Category']].rename(columns=\n",
    "                {'y_analysisGender2Category':'Gender2', 'y_analysisGender3Category':'Gender3'})\n",
    "\n",
    "mod_data.head()"
   ]
  },
  {
   "cell_type": "code",
   "execution_count": 4,
   "metadata": {},
   "outputs": [
    {
     "data": {
      "text/plain": [
       "Index(['y_analysisGender2Category', 'y_analysisGender3Category',\n",
       "       'analysisHasSecondaryMorphYN', 'analysisMutability',\n",
       "       'm_analysisPluralPattern', 'm_analysisRAugVowel',\n",
       "       'analysisSemanticCoreYN', 'analysisSingularTheme', 'p_analysisThemeCV',\n",
       "       'p_analysisThemeFinalSegment', 'p_analysisThemeInitialSegment',\n",
       "       's_lexiconAnimateYN', 'lexiconGlossEnglish', 'lexiconGlossFrench',\n",
       "       's_lexiconHumanYN', 'm_lexiconLoanwordSource', 's_lexiconSemanticField',\n",
       "       's_lexiconSexGender', 'recordID', 'm_wordDerivedCategory',\n",
       "       'wordLexBitVector', 'm_wordNumSemanticCategory'],\n",
       "      dtype='object')"
      ]
     },
     "execution_count": 4,
     "metadata": {},
     "output_type": "execute_result"
    }
   ],
   "source": [
    "data_.columns"
   ]
  },
  {
   "cell_type": "code",
   "execution_count": 6,
   "metadata": {},
   "outputs": [
    {
     "name": "stdout",
     "output_type": "stream",
     "text": [
      "y_analysisGender2Category\n",
      "Masculine    1431\n",
      "Feminine      483\n",
      "Name: y_analysisGender2Category, dtype: int64\n",
      "y_analysisGender3Category\n",
      "Masculine    1116\n",
      "Feminine      483\n",
      "Neutral       315\n",
      "Name: y_analysisGender3Category, dtype: int64\n",
      "analysisHasSecondaryMorphYN\n",
      "Yes    414\n",
      "Name: analysisHasSecondaryMorphYN, dtype: int64\n",
      "analysisMutability\n",
      "Fixed-Masc       762\n",
      "Fixed-Fem        423\n",
      "Variable-Masc    354\n",
      "Neutral          315\n",
      "Variable-Fem      60\n",
      "Name: analysisMutability, dtype: int64\n",
      "m_analysisPluralPattern\n",
      "No Plural      640\n",
      "External       501\n",
      "Internal       379\n",
      "Mixed          306\n",
      "Only Plural     50\n",
      "id Plural       38\n",
      "Name: m_analysisPluralPattern, dtype: int64\n",
      "m_analysisRAugVowel\n",
      "A       1044\n",
      "Zero     698\n",
      "I        172\n",
      "Name: m_analysisRAugVowel, dtype: int64\n",
      "analysisSemanticCoreYN\n",
      "N    1564\n",
      "Y     350\n",
      "Name: analysisSemanticCoreYN, dtype: int64\n",
      "analysisSingularTheme\n",
      "glaj      3\n",
      "ssgni     3\n",
      "gri       3\n",
      "frdi      2\n",
      "!sjjad    2\n",
      "         ..\n",
      "mχlaw     1\n",
      "!gʷdi     1\n",
      "mzil      1\n",
      "!anud     1\n",
      "knjaw     1\n",
      "Name: analysisSingularTheme, Length: 1801, dtype: int64\n",
      "p_analysisThemeCV\n",
      "CCCVC       354\n",
      "CCVC        194\n",
      "CCCV        120\n",
      "CVCVC        83\n",
      "VCCVC        80\n",
      "           ... \n",
      "CCCVCCVC      1\n",
      "VCCCC         1\n",
      "VCCVCCCV      1\n",
      "CVCVCVC       1\n",
      "CCVVCCVC      1\n",
      "Name: p_analysisThemeCV, Length: 75, dtype: int64\n",
      "p_analysisThemeFinalSegment\n",
      "i    253\n",
      "r    220\n",
      "a    195\n",
      "l    137\n",
      "u    124\n",
      "d    118\n",
      "m    103\n",
      "j    100\n",
      "s     97\n",
      "n     91\n",
      "f     61\n",
      "z     59\n",
      "g     40\n",
      "b     38\n",
      "ʃ     38\n",
      "ʁ     32\n",
      "t     31\n",
      "w     26\n",
      "ʕ     23\n",
      "k     22\n",
      "ħ     19\n",
      "q     16\n",
      "ʒ     12\n",
      "χ      6\n",
      "h      2\n",
      "Name: p_analysisThemeFinalSegment, dtype: int64\n",
      "p_analysisThemeInitialSegment\n",
      "l    254\n",
      "m    204\n",
      "s    201\n",
      "a    166\n",
      "b     98\n",
      "n     95\n",
      "g     94\n",
      "z     79\n",
      "f     71\n",
      "u     65\n",
      "i     64\n",
      "d     61\n",
      "ʃ     56\n",
      "r     52\n",
      "k     49\n",
      "ʁ     45\n",
      "t     39\n",
      "ħ     39\n",
      "w     30\n",
      "q     30\n",
      "χ     23\n",
      "ʒ     22\n",
      "ʕ     16\n",
      "h      9\n",
      "j      1\n",
      "Name: p_analysisThemeInitialSegment, dtype: int64\n",
      "s_lexiconAnimateYN\n",
      "N    1423\n",
      "Y     491\n",
      "Name: s_lexiconAnimateYN, dtype: int64\n",
      "lexiconGlossEnglish\n",
      "goat           5\n",
      "food           4\n",
      "slap           4\n",
      "pipe           4\n",
      "sting          4\n",
      "              ..\n",
      "gaffe          1\n",
      "fugitive       1\n",
      "smart          1\n",
      "spindle        1\n",
      "fich marble    1\n",
      "Name: lexiconGlossEnglish, Length: 1693, dtype: int64\n",
      "lexiconGlossFrench\n",
      "bouc                   4\n",
      "argent                 4\n",
      "gifle                  4\n",
      "ventre                 3\n",
      "compagnon              3\n",
      "                      ..\n",
      "guet                   1\n",
      "garde, surveillance    1\n",
      "garçonnet              1\n",
      "garçon/fille           1\n",
      "le marbré              1\n",
      "Name: lexiconGlossFrench, Length: 1701, dtype: int64\n",
      "s_lexiconHumanYN\n",
      "N    1592\n",
      "Y     322\n",
      "Name: s_lexiconHumanYN, dtype: int64\n",
      "m_lexiconLoanwordSource\n",
      "Native                  1380\n",
      "Arabic-Assimilated       283\n",
      "Arabic-Unassimilated     181\n",
      "French                    38\n",
      "Unknown                   31\n",
      "Spanish                    1\n",
      "Name: m_lexiconLoanwordSource, dtype: int64\n",
      "s_lexiconSemanticField\n",
      "Body Parts & Functions       220\n",
      "Physical Acts & Materials    171\n",
      "Food & Drink                 147\n",
      "Social Relations             141\n",
      "Animals                      132\n",
      "Emotion                      116\n",
      "Agriculture & Vegetation     105\n",
      "Physical World               102\n",
      "Language & Music              87\n",
      "Possession & Trade            79\n",
      "Motion & Transportation       75\n",
      "Sense Perception              67\n",
      "Clothing & Adornment          66\n",
      "Spatial Relations             64\n",
      "Religion & Beliefs            60\n",
      "Dwellings & Furniture         51\n",
      "Quantity & Number             50\n",
      "Mind & Thought                50\n",
      "Mankind                       41\n",
      "Time                          40\n",
      "Warfare & Hunting             34\n",
      "Law & Judgement               16\n",
      "Name: s_lexiconSemanticField, dtype: int64\n",
      "s_lexiconSexGender\n",
      "NonSpec    453\n",
      "Male        27\n",
      "Female      11\n",
      "Name: s_lexiconSexGender, dtype: int64\n",
      "recordID\n",
      "2499    2\n",
      "2381    2\n",
      "1       1\n",
      "1952    1\n",
      "1966    1\n",
      "       ..\n",
      "1027    1\n",
      "1026    1\n",
      "1024    1\n",
      "1023    1\n",
      "2702    1\n",
      "Name: recordID, Length: 1912, dtype: int64\n",
      "m_wordDerivedCategory\n",
      "Underived                        1260\n",
      "Action Nouns                      342\n",
      "Agentives                         177\n",
      "Instrumental Nouns                 45\n",
      "Tirrugza                           31\n",
      "Stative Noun - WIP                 11\n",
      "Occupational Nouns                  9\n",
      "Result of Verbal Action - WIP       8\n",
      "Tifrdi                              8\n",
      "Ukris                               7\n",
      "Unknown                             5\n",
      "Adjective Of Origin                 5\n",
      "Abnakliy                            4\n",
      "Azddayru                            2\n",
      "Name: m_wordDerivedCategory, dtype: int64\n",
      "wordLexBitVector\n",
      "1111-1111    697\n",
      "1100-0000    371\n",
      "1111-0000    358\n",
      "0000-1100    258\n",
      "0000-1111    148\n",
      "0011-0000     33\n",
      "1100-1111     21\n",
      "0000-0011     17\n",
      "1111-1100      5\n",
      "1100-1100      5\n",
      "1111-0011      1\n",
      "Name: wordLexBitVector, dtype: int64\n",
      "m_wordNumSemanticCategory\n",
      "5-DIM     272\n",
      "1-AUG      60\n",
      "5-POLY     50\n",
      "5-UNIT     33\n",
      "Name: m_wordNumSemanticCategory, dtype: int64\n"
     ]
    }
   ],
   "source": [
    "for col in data_.columns:\n",
    "    print(col)\n",
    "    print(data_[col].value_counts())"
   ]
  },
  {
   "cell_type": "code",
   "execution_count": 8,
   "metadata": {},
   "outputs": [],
   "source": [
    "def check(string, pos):\n",
    "    if string[pos]=='C':\n",
    "        return 1\n",
    "    else:\n",
    "        return 0\n",
    "CV_theme = data_['p_analysisThemeCV']\n",
    "#mod_data['length'] = CV_theme.map(lambda x: len(str(x)))\n",
    "mod_data['CountC'] = CV_theme.map(lambda x: str(x).count('C'))\n",
    "mod_data['CountV'] = CV_theme.map(lambda x: str(x).count('V'))\n",
    "mod_data['Start']  = CV_theme.map(lambda x: check(str(x), 0))\n",
    "mod_data['End']  = CV_theme.map(lambda x: check(str(x), -1))\n",
    "mod_data['start_letter'] = data_['p_analysisThemeInitialSegment']\n",
    "mod_data['end_letter'] = data_['p_analysisThemeFinalSegment']\n",
    "#mod_data['Cat_theme'] = data_['s_lexiconSemanticField']"
   ]
  },
  {
   "cell_type": "code",
   "execution_count": 39,
   "metadata": {},
   "outputs": [
    {
     "data": {
      "image/png": "[encoded data removed]",
      "text/plain": [
       "<Figure size 432x288 with 1 Axes>"
      ]
     },
     "metadata": {
      "needs_background": "light"
     },
     "output_type": "display_data"
    },
    {
     "data": {
      "image/png": "[encoded data removed]",
      "text/plain": [
       "<Figure size 432x288 with 1 Axes>"
      ]
     },
     "metadata": {
      "needs_background": "light"
     },
     "output_type": "display_data"
    }
   ],
   "source": [
    "for gender in ['Masculine', 'Feminine']:\n",
    "    mod_data_frag = mod_data[mod_data['Gender2']==gender]\n",
    "    plt.hist(mod_data_frag['End'])\n",
    "    plt.show()"
   ]
  },
  {
   "cell_type": "code",
   "execution_count": 9,
   "metadata": {},
   "outputs": [
    {
     "data": {
      "text/html": [
       "<div>\n",
       "<style scoped>\n",
       "    .dataframe tbody tr th:only-of-type {\n",
       "        vertical-align: middle;\n",
       "    }\n",
       "\n",
       "    .dataframe tbody tr th {\n",
       "        vertical-align: top;\n",
       "    }\n",
       "\n",
       "    .dataframe thead th {\n",
       "        text-align: right;\n",
       "    }\n",
       "</style>\n",
       "<table border=\"1\" class=\"dataframe\">\n",
       "  <thead>\n",
       "    <tr style=\"text-align: right;\">\n",
       "      <th></th>\n",
       "      <th>Gender2</th>\n",
       "      <th>Gender3</th>\n",
       "      <th>CountC</th>\n",
       "      <th>CountV</th>\n",
       "      <th>Start</th>\n",
       "      <th>End</th>\n",
       "      <th>start_letter</th>\n",
       "      <th>end_letter</th>\n",
       "    </tr>\n",
       "  </thead>\n",
       "  <tbody>\n",
       "    <tr>\n",
       "      <th>0</th>\n",
       "      <td>Feminine</td>\n",
       "      <td>Feminine</td>\n",
       "      <td>5</td>\n",
       "      <td>0</td>\n",
       "      <td>1</td>\n",
       "      <td>1</td>\n",
       "      <td>l</td>\n",
       "      <td>z</td>\n",
       "    </tr>\n",
       "    <tr>\n",
       "      <th>1</th>\n",
       "      <td>Feminine</td>\n",
       "      <td>Feminine</td>\n",
       "      <td>4</td>\n",
       "      <td>1</td>\n",
       "      <td>1</td>\n",
       "      <td>0</td>\n",
       "      <td>l</td>\n",
       "      <td>a</td>\n",
       "    </tr>\n",
       "    <tr>\n",
       "      <th>2</th>\n",
       "      <td>Masculine</td>\n",
       "      <td>Masculine</td>\n",
       "      <td>5</td>\n",
       "      <td>1</td>\n",
       "      <td>1</td>\n",
       "      <td>1</td>\n",
       "      <td>l</td>\n",
       "      <td>n</td>\n",
       "    </tr>\n",
       "    <tr>\n",
       "      <th>3</th>\n",
       "      <td>Masculine</td>\n",
       "      <td>Masculine</td>\n",
       "      <td>3</td>\n",
       "      <td>1</td>\n",
       "      <td>1</td>\n",
       "      <td>1</td>\n",
       "      <td>l</td>\n",
       "      <td>m</td>\n",
       "    </tr>\n",
       "    <tr>\n",
       "      <th>4</th>\n",
       "      <td>Masculine</td>\n",
       "      <td>Masculine</td>\n",
       "      <td>4</td>\n",
       "      <td>2</td>\n",
       "      <td>1</td>\n",
       "      <td>1</td>\n",
       "      <td>d</td>\n",
       "      <td>k</td>\n",
       "    </tr>\n",
       "  </tbody>\n",
       "</table>\n",
       "</div>"
      ],
      "text/plain": [
       "     Gender2    Gender3  CountC  CountV  Start  End start_letter end_letter\n",
       "0   Feminine   Feminine       5       0      1    1            l          z\n",
       "1   Feminine   Feminine       4       1      1    0            l          a\n",
       "2  Masculine  Masculine       5       1      1    1            l          n\n",
       "3  Masculine  Masculine       3       1      1    1            l          m\n",
       "4  Masculine  Masculine       4       2      1    1            d          k"
      ]
     },
     "execution_count": 9,
     "metadata": {},
     "output_type": "execute_result"
    }
   ],
   "source": [
    "mod_data.head()"
   ]
  },
  {
   "cell_type": "markdown",
   "metadata": {},
   "source": [
    "# Building Some Simple Classification Model Using the above features"
   ]
  },
  {
   "cell_type": "code",
   "execution_count": 10,
   "metadata": {},
   "outputs": [],
   "source": [
    "from sklearn.ensemble import RandomForestClassifier\n",
    "from sklearn.model_selection import train_test_split\n",
    "from sklearn.preprocessing import LabelEncoder\n",
    "from sklearn.metrics import *"
   ]
  },
  {
   "cell_type": "code",
   "execution_count": 22,
   "metadata": {},
   "outputs": [
    {
     "data": {
      "text/plain": [
       "RandomForestClassifier(max_depth=10, n_estimators=500, random_state=10)"
      ]
     },
     "execution_count": 22,
     "metadata": {},
     "output_type": "execute_result"
    }
   ],
   "source": [
    "le = LabelEncoder()\n",
    "le1 = LabelEncoder()\n",
    "target = mod_data['Gender2']\n",
    "target = le.fit_transform(target)\n",
    "mod_data[mod_data.columns[-2]] = le1.fit_transform(mod_data[mod_data.columns[-2]])\n",
    "mod_data[mod_data.columns[-1]] = le1.fit_transform(mod_data[mod_data.columns[-1]])\n",
    "features = np.array(mod_data[mod_data.columns[2:]])\n",
    "train_feat, test_feat, train_targ, test_tar = train_test_split(features, target, test_size=0.20, random_state=1)\n",
    "rf = RandomForestClassifier(n_estimators=500, random_state=10, max_depth=10)\n",
    "rf.fit(train_feat, train_targ)"
   ]
  },
  {
   "cell_type": "code",
   "execution_count": 23,
   "metadata": {},
   "outputs": [
    {
     "name": "stdout",
     "output_type": "stream",
     "text": [
      "Accuracy:0.7989556135770235, Precision:0.931740614334471\n",
      "Recall:0.8272727272727273, F1-score: 0.8764044943820225\n"
     ]
    }
   ],
   "source": [
    "predictions = rf.predict(test_feat)\n",
    "print(f\"Accuracy:{accuracy_score(predictions, test_tar)}, Precision:{precision_score(predictions, test_tar)}\")\n",
    "print(f\"Recall:{recall_score(predictions, test_tar)}, F1-score: {f1_score(predictions, test_tar)}\")\n"
   ]
  },
  {
   "cell_type": "code",
   "execution_count": 24,
   "metadata": {},
   "outputs": [
    {
     "data": {
      "image/png": "[encoded data removed]",
      "text/plain": [
       "<Figure size 432x288 with 1 Axes>"
      ]
     },
     "metadata": {
      "needs_background": "light"
     },
     "output_type": "display_data"
    }
   ],
   "source": [
    "#Biased Importance\n",
    "vals = rf.feature_importances_\n",
    "std = np.std([tree.feature_importances_ for tree in rf.estimators_], axis=0)\n",
    "forest_importances = pd.Series(vals, index=mod_data.columns[2:])\n",
    "\n",
    "fig, ax = plt.subplots()\n",
    "forest_importances.plot.bar(yerr=std, ax=ax)\n",
    "ax.set_title(\"Feature importances using MDI\")\n",
    "ax.set_ylabel(\"Mean decrease in impurity\")\n",
    "fig.tight_layout()\n"
   ]
  },
  {
   "cell_type": "code",
   "execution_count": 26,
   "metadata": {},
   "outputs": [
    {
     "data": {
      "image/png": "[encoded data removed]",
      "text/plain": [
       "<Figure size 432x288 with 1 Axes>"
      ]
     },
     "metadata": {
      "needs_background": "light"
     },
     "output_type": "display_data"
    }
   ],
   "source": [
    "# Unbiased \n",
    "from sklearn.inspection import permutation_importance\n",
    "\n",
    "result = permutation_importance(\n",
    "    rf, test_feat, test_tar, n_repeats=10, random_state=45, n_jobs=2\n",
    ")\n",
    "#print(f\"Elapsed time to compute the importances: {elapsed_time:.3f} seconds\")\n",
    "\n",
    "forest_importances = pd.Series(result.importances_mean, index=mod_data.columns[2:])\n",
    "fig, ax = plt.subplots()\n",
    "forest_importances.plot.bar(yerr=result.importances_std, ax=ax)\n",
    "ax.set_title(\"Feature importances using permutation on full model\")\n",
    "ax.set_ylabel(\"Mean accuracy decrease\")\n",
    "fig.tight_layout()\n",
    "plt.show()"
   ]
  },
  {
   "cell_type": "code",
   "execution_count": 11,
   "metadata": {},
   "outputs": [
    {
     "name": "stdout",
     "output_type": "stream",
     "text": [
      "CCCVC\n",
      "Masculine    312\n",
      "Feminine      42\n",
      "Name: y_analysisGender2Category, dtype: int64\n",
      "CCVC\n",
      "Masculine    164\n",
      "Feminine      30\n",
      "Name: y_analysisGender2Category, dtype: int64\n",
      "CCCV\n",
      "Masculine    80\n",
      "Feminine     40\n",
      "Name: y_analysisGender2Category, dtype: int64\n",
      "CVCVC\n",
      "Masculine    73\n",
      "Feminine     10\n",
      "Name: y_analysisGender2Category, dtype: int64\n",
      "VCCVC\n",
      "Masculine    56\n",
      "Feminine     24\n",
      "Name: y_analysisGender2Category, dtype: int64\n"
     ]
    }
   ],
   "source": [
    "for theme in ['CCCVC', 'CCVC', 'CCCV', 'CVCVC', 'VCCVC']:\n",
    "    print(theme)\n",
    "    data_frag = data_[data_['p_analysisThemeCV']==theme]\n",
    "    print(data_frag['y_analysisGender2Category'].value_counts())"
   ]
  },
  {
   "cell_type": "code",
   "execution_count": 8,
   "metadata": {},
   "outputs": [
    {
     "data": {
      "text/plain": [
       "Masculine    164\n",
       "Feminine      30\n",
       "Name: y_analysisGender2Category, dtype: int64"
      ]
     },
     "execution_count": 8,
     "metadata": {},
     "output_type": "execute_result"
    }
   ],
   "source": [
    "data_frag = data_[data_['p_analysisThemeCV']=='CCVC']\n",
    "data_frag['y_analysisGender2Category'].value_counts()"
   ]
  },
  {
   "cell_type": "code",
   "execution_count": 9,
   "metadata": {},
   "outputs": [
    {
     "data": {
      "text/plain": [
       "Masculine    80\n",
       "Feminine     40\n",
       "Name: y_analysisGender2Category, dtype: int64"
      ]
     },
     "execution_count": 9,
     "metadata": {},
     "output_type": "execute_result"
    }
   ],
   "source": [
    "data_frag = data_[data_['p_analysisThemeCV']=='CCCV']\n",
    "data_frag['y_analysisGender2Category'].value_counts()"
   ]
  },
  {
   "cell_type": "code",
   "execution_count": null,
   "metadata": {},
   "outputs": [],
   "source": []
  }
 ],
 "metadata": {
  "kernelspec": {
   "display_name": "Python 3",
   "language": "python",
   "name": "python3"
  },
  "language_info": {
   "codemirror_mode": {
    "name": "ipython",
    "version": 3
   },
   "file_extension": ".py",
   "mimetype": "text/x-python",
   "name": "python",
   "nbconvert_exporter": "python",
   "pygments_lexer": "ipython3",
   "version": "3.9.8"
  }
 },
 "nbformat": 4,
 "nbformat_minor": 2
}
