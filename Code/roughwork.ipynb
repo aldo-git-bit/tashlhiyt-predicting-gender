{
 "cells": [
  {
   "cell_type": "code",
   "execution_count": 39,
   "metadata": {},
   "outputs": [],
   "source": [
    "import pandas as pd\n",
    "import numpy as np\n",
    "import seaborn as sns\n",
    "import matplotlib.pyplot as plt\n",
    "from sklearn.preprocessing import LabelEncoder\n",
    "from sklearn.preprocessing import OneHotEncoder\n",
    "from cross_validate_bi import model_evaluate\n",
    "from sklearn.ensemble import RandomForestClassifier\n",
    "from sklearn.ensemble import RandomForestClassifier\n",
    "from sklearn.ensemble import GradientBoostingClassifier\n",
    "from sklearn.ensemble import AdaBoostClassifier\n",
    "from sklearn.ensemble import VotingClassifier\n",
    "from sklearn.linear_model import LogisticRegression\n",
    "from sklearn.neighbors import KNeighborsClassifier\n",
    "from sklearn import svm\n",
    "\n",
    "data = pd.read_csv('C:\\\\Users\\\\user\\\\tashlhiyt-predicting-gender\\\\Data\\\\int_data.csv', index_col=0)"
   ]
  },
  {
   "cell_type": "code",
   "execution_count": 40,
   "metadata": {},
   "outputs": [],
   "source": [
    "data_feat1 = np.array(data[data.columns[2:6]])\n",
    "encoder = OneHotEncoder()\n",
    "data_feat2 = encoder.fit_transform(data[data.columns[6:]]).toarray()\n",
    "train_data = np.concatenate((data_feat1, data_feat2), axis=1)\n",
    "le = LabelEncoder()\n",
    "target_data = le.fit_transform(data[data.columns[0]])"
   ]
  },
  {
   "cell_type": "code",
   "execution_count": 44,
   "metadata": {},
   "outputs": [],
   "source": [
    "lab_data = pd.read_csv('C:\\\\Users\\\\user\\\\tashlhiyt-predicting-gender\\\\Data\\\\final_data.csv', index_col=0)\n",
    "train_data1 = np.array(lab_data[lab_data.columns[2:]])"
   ]
  },
  {
   "cell_type": "code",
   "execution_count": 45,
   "metadata": {},
   "outputs": [
    {
     "name": "stdout",
     "output_type": "stream",
     "text": [
      "[0.77 0.8  0.91 0.85 0.68 0.18]\n",
      "[0.8  0.81 0.95 0.87 0.79 0.15]\n"
     ]
    }
   ],
   "source": [
    "ls = LogisticRegression(max_iter=1000)\n",
    "knn = KNeighborsClassifier()\n",
    "me = model_evaluate(train_data1, target_data)\n",
    "print(me.cross_val_study(knn, repeats=20))\n",
    "print(me.cross_val_study(ls, repeats=20))"
   ]
  },
  {
   "cell_type": "code",
   "execution_count": 47,
   "metadata": {},
   "outputs": [],
   "source": [
    "rfc = RandomForestClassifier()\n",
    "abc = AdaBoostClassifier()\n",
    "gbd = GradientBoostingClassifier()\n",
    "svc = svm.SVC(probability=True)\n",
    "evc = VotingClassifier([('rfc', rfc), ('abc', abc), ('gbd', gbd)], voting='soft')\n",
    "evaluations = []\n",
    "phonology = [i for i in range(56)]\n",
    "morphology = [i for i in range(56, 91)]\n",
    "semantic = [i for i in range(91, 121)]\n",
    "phonology = [2, 3, 4, 5, 6, 7]\n",
    "morphology = [8, 9, 10, 11, 12]\n",
    "semantic = [13, 14, 15]\n",
    "features_list = [(morphology, 'morphology'), (phonology, 'phonology'), (semantic, 'semantic'),\n",
    "                (phonology+morphology, 'phon+morph'), (phonology+semantic, 'phon+sem'),\n",
    "                (morphology+semantic, 'morph+sem'), (phonology+semantic+morphology, 'all')]\n",
    "models = [(ls, 'ls'), (knn, 'knn')]\n",
    "for feat in features_list:\n",
    "        features = np.array(lab_data[lab_data.columns[feat[0]]])\n",
    "        features_full = model_evaluate(features, target_data)\n",
    "        for model in models:\n",
    "            res = list(features_full.cross_val_study(model[0], repeats=20))\n",
    "            res = [feat[1], model[1]] + res\n",
    "            evaluations.append(res)\n",
    "evaluations = pd.DataFrame(evaluations,\n",
    "                            columns=['Features', 'Model', 'accuracy', 'precision',\n",
    "                                        'recall', 'f1', 'roc-auc', 'brier'])\n",
    "\n",
    "evaluations.to_csv('C:\\\\Users\\\\user\\\\tashlhiyt-predicting-gender\\\\Results\\\\supp_cv_nonhp.csv')"
   ]
  },
  {
   "cell_type": "code",
   "execution_count": 30,
   "metadata": {},
   "outputs": [],
   "source": [
    "evaluations = pd.DataFrame(evaluations,\n",
    "                            columns=['Features', 'Model', 'accuracy', 'precision',\n",
    "                                        'recall', 'f1', 'roc-auc'])\n",
    "\n",
    "evaluations.to_csv('C:\\\\Users\\\\user\\\\tashlhiyt-predicting-gender\\\\Results\\\\eval3_cv_nonhp_onehot.csv')"
   ]
  },
  {
   "cell_type": "code",
   "execution_count": null,
   "metadata": {},
   "outputs": [],
   "source": []
  }
 ],
 "metadata": {
  "kernelspec": {
   "display_name": "Python 3",
   "language": "python",
   "name": "python3"
  },
  "language_info": {
   "codemirror_mode": {
    "name": "ipython",
    "version": 3
   },
   "file_extension": ".py",
   "mimetype": "text/x-python",
   "name": "python",
   "nbconvert_exporter": "python",
   "pygments_lexer": "ipython3",
   "version": "3.9.8"
  }
 },
 "nbformat": 4,
 "nbformat_minor": 2
}
